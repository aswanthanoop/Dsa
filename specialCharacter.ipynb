{
 "cells": [
  {
   "cell_type": "code",
   "execution_count": null,
   "metadata": {
    "vscode": {
     "languageId": "plaintext"
    }
   },
   "outputs": [],
   "source": [
    "def count_special(word):\n",
    "    first_occurances = {}\n",
    "    special_count = 0\n",
    "\n",
    "    for i, char in enumerate(word):\n",
    "        if char.islower() and char not in first_occurances:\n",
    "            first_occurances[char] = i\n",
    "\n",
    "    for char in word:\n",
    "        if char.isupper():\n",
    "            lower_char = char.lower()\n",
    "            if lower_char in first_occurances and first_occurances[lower_char] < word.index(char):\n",
    "                special_count += 1\n",
    "                del first_occurances[lower_char]\n",
    "    return special_count "
   ]
  }
 ],
 "metadata": {
  "language_info": {
   "name": "python"
  }
 },
 "nbformat": 4,
 "nbformat_minor": 2
}
